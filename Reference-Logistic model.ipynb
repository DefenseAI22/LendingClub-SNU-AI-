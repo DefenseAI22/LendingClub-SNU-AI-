{
 "cells": [
  {
   "cell_type": "markdown",
   "id": "26ddc505",
   "metadata": {},
   "source": [
    "# 1. 데이터 불러오기"
   ]
  },
  {
   "cell_type": "code",
   "execution_count": 102,
   "id": "a4b87a2f",
   "metadata": {},
   "outputs": [],
   "source": [
    "import pandas as pd\n",
    "import numpy as np"
   ]
  },
  {
   "cell_type": "code",
   "execution_count": 103,
   "id": "cc8110b2",
   "metadata": {},
   "outputs": [],
   "source": [
    "import warnings\n",
    "warnings.filterwarnings('ignore')"
   ]
  },
  {
   "cell_type": "code",
   "execution_count": 104,
   "id": "858710df",
   "metadata": {},
   "outputs": [],
   "source": [
    "df = pd.read_csv('train_전처리_0909_without_current.csv')\n",
    "df_test = pd.read_csv('test_전처리_0909_without_current.csv')"
   ]
  },
  {
   "cell_type": "markdown",
   "id": "e98472ca",
   "metadata": {},
   "source": [
    "### raw data 보관"
   ]
  },
  {
   "cell_type": "code",
   "execution_count": 105,
   "id": "a4d19434",
   "metadata": {},
   "outputs": [],
   "source": [
    "raw = df_test\n",
    "raw_train = df"
   ]
  },
  {
   "cell_type": "markdown",
   "id": "15fbb495",
   "metadata": {},
   "source": [
    "### 불필요 변수 삭제"
   ]
  },
  {
   "cell_type": "code",
   "execution_count": 106,
   "id": "a6d7df5b",
   "metadata": {},
   "outputs": [],
   "source": [
    "df = df.drop(columns = 'int_rate')\n",
    "df_test = df_test.drop(columns = 'int_rate')"
   ]
  },
  {
   "cell_type": "code",
   "execution_count": 107,
   "id": "63fd3d6d",
   "metadata": {},
   "outputs": [],
   "source": [
    "df = df.drop(columns = 'spline_segment_1')\n",
    "df_test = df_test.drop(columns = 'spline_segment_1')"
   ]
  },
  {
   "cell_type": "markdown",
   "id": "d888e733",
   "metadata": {},
   "source": [
    "# 2. 전처리 (log transformation / 이상치 조정 / StandardScaler)"
   ]
  },
  {
   "cell_type": "markdown",
   "id": "9eb6a596",
   "metadata": {},
   "source": [
    "### (1) 이상치 조정"
   ]
  },
  {
   "cell_type": "markdown",
   "id": "5530bb22",
   "metadata": {},
   "source": [
    "z-score 절대값이 3 초과인 경우는 3으로 고정"
   ]
  },
  {
   "cell_type": "code",
   "execution_count": 108,
   "id": "8a3bf2b1",
   "metadata": {},
   "outputs": [],
   "source": [
    "import numpy as np\n",
    "from scipy import stats\n",
    "\n",
    "# Z-score를 계산하고 임계값으로 클리핑하는 함수\n",
    "def calculate_mean_std(df):\n",
    "    \"\"\"주어진 데이터프레임의 각 열에 대해 평균과 표준편차를 계산\"\"\"\n",
    "    means = df.mean()\n",
    "    stds = df.std()\n",
    "    return means, stds\n",
    "\n",
    "def clip_outliers_zscore(df, means, stds, threshold=3):\n",
    "    df_clipped = df.copy()  # 원본 데이터를 유지하기 위해 복사\n",
    "    for column in df_clipped.select_dtypes(include=[float, int]).columns:\n",
    "        z_scores = stats.zscore(df_clipped[column])\n",
    "        \n",
    "        # Z-score가 threshold를 초과하는 값을 클리핑\n",
    "        df_clipped[column] = np.where(z_scores > threshold, \n",
    "                                      means[column] + threshold * stds[column],\n",
    "                                      df_clipped[column])\n",
    "        \n",
    "        # Z-score가 -threshold 미만인 값을 클리핑\n",
    "        df_clipped[column] = np.where(z_scores < -threshold, \n",
    "                                      means[column] - threshold * stds[column],\n",
    "                                      df_clipped[column])\n",
    "    \n",
    "    return df_clipped\n",
    "\n",
    "# df에서 평균과 표준편차 계산\n",
    "means, stds = calculate_mean_std(df)\n",
    "\n"
   ]
  },
  {
   "cell_type": "code",
   "execution_count": 109,
   "id": "ec3c3596",
   "metadata": {},
   "outputs": [],
   "source": [
    "# df에서 클리핑 적용\n",
    "df_clipped = clip_outliers_zscore(df, means, stds, threshold=3)\n",
    "\n",
    "# df_test에서 클리핑 적용 (동일한 평균과 표준편차 사용)\n",
    "#df_test_clipped = clip_outliers_zscore(df_test, means, stds, threshold=3)\n"
   ]
  },
  {
   "cell_type": "code",
   "execution_count": 110,
   "id": "af287e98",
   "metadata": {},
   "outputs": [],
   "source": [
    "df_test_clipped = df_test"
   ]
  },
  {
   "cell_type": "markdown",
   "id": "acaeee78",
   "metadata": {},
   "source": [
    "### (2) 왜도 보완 (log transformation)"
   ]
  },
  {
   "cell_type": "markdown",
   "id": "00b325ea",
   "metadata": {},
   "source": [
    "왜도가 1 초과인 경우는 로그변환, -1 미만인 경우는 reverse + 로그변환"
   ]
  },
  {
   "cell_type": "code",
   "execution_count": 111,
   "id": "a94e8ef9",
   "metadata": {},
   "outputs": [],
   "source": [
    "df = df_clipped\n",
    "df_test = df_test_clipped"
   ]
  },
  {
   "cell_type": "code",
   "execution_count": 112,
   "id": "22c2da2a",
   "metadata": {},
   "outputs": [],
   "source": [
    "import numpy as np\n",
    "import pandas as pd\n",
    "\n",
    "# 제외할 열\n",
    "exclude_columns = ['irr', 'total_pymnt', 'target']\n",
    "\n",
    "# 수치형 변수 선택 및 제외할 열 제거\n",
    "numeric_columns = df.select_dtypes(include=['float64', 'int64']).columns\n",
    "numeric_columns = numeric_columns.difference(exclude_columns)\n",
    "\n",
    "# 변환 함수 정의\n",
    "def apply_transformations(df):\n",
    "    for col in numeric_columns:\n",
    "        skewness = df[col].skew()\n",
    "        print(f'{col}의 왜도: {skewness:.2f}')\n",
    "        \n",
    "        if (df[col] < 0).any():\n",
    "            print(f'{col}는 0 미만의 값을 가집니다 (having negative value).')\n",
    "        \n",
    "        if skewness > 1:  # Right skewed\n",
    "            # 로그 변환 적용 (양수 값만)\n",
    "            if (df[col] <= 0).any():\n",
    "                df[col] = np.log1p(df[col] - df[col].min() + 1)\n",
    "                print(f'{col}에 로그 변환을 적용했습니다 (Shifted).')\n",
    "            else:\n",
    "                df[col] = np.log1p(df[col])\n",
    "                print(f'{col}에 로그 변환을 적용했습니다.')\n",
    "        \n",
    "        elif skewness < -1:  # Left skewed\n",
    "            # Reverse 변환 후 로그 변환 적용\n",
    "            df[col] = np.log1p(df[col].max() - df[col])\n",
    "            print(f'{col}에 Reverse-로그 변환을 적용했습니다.')\n",
    "        \n",
    "        # 처리 완료 후 구분선 출력\n",
    "        print('----------')\n",
    "\n"
   ]
  },
  {
   "cell_type": "code",
   "execution_count": 113,
   "id": "38497b51",
   "metadata": {},
   "outputs": [
    {
     "name": "stdout",
     "output_type": "stream",
     "text": [
      "all_util의 왜도: -0.25\n",
      "----------\n",
      "annual_inc의 왜도: 3.09\n",
      "annual_inc에 로그 변환을 적용했습니다.\n",
      "----------\n",
      "chargeoff_within_12_mths의 왜도: 11.04\n",
      "chargeoff_within_12_mths에 로그 변환을 적용했습니다 (Shifted).\n",
      "----------\n",
      "collections_12_mths_ex_med의 왜도: 7.61\n",
      "collections_12_mths_ex_med에 로그 변환을 적용했습니다 (Shifted).\n",
      "----------\n",
      "covid_impact의 왜도: 0.54\n",
      "----------\n",
      "delinq_2yrs의 왜도: 2.59\n",
      "delinq_2yrs에 로그 변환을 적용했습니다 (Shifted).\n",
      "----------\n",
      "delinq_amnt의 왜도: 30.56\n",
      "delinq_amnt에 로그 변환을 적용했습니다 (Shifted).\n",
      "----------\n",
      "dti의 왜도: 0.23\n",
      "----------\n",
      "emp_title의 왜도: -0.68\n",
      "emp_title는 0 미만의 값을 가집니다 (having negative value).\n",
      "----------\n",
      "fico_range_low의 왜도: 1.10\n",
      "fico_range_low에 로그 변환을 적용했습니다.\n",
      "----------\n",
      "funded_amnt의 왜도: 0.81\n",
      "----------\n",
      "grade의 왜도: 0.59\n",
      "----------\n",
      "inq_last_6mths의 왜도: 1.40\n",
      "inq_last_6mths에 로그 변환을 적용했습니다 (Shifted).\n",
      "----------\n",
      "num_actv_rev_tl의 왜도: 1.02\n",
      "num_actv_rev_tl에 로그 변환을 적용했습니다 (Shifted).\n",
      "----------\n",
      "pub_rec_bankruptcies의 왜도: 2.31\n",
      "pub_rec_bankruptcies에 로그 변환을 적용했습니다 (Shifted).\n",
      "----------\n",
      "spline_segment_2의 왜도: 0.94\n",
      "----------\n",
      "spline_segment_3의 왜도: 0.69\n",
      "----------\n",
      "spline_segment_4의 왜도: 1.25\n",
      "spline_segment_4에 로그 변환을 적용했습니다 (Shifted).\n",
      "----------\n",
      "spline_segment_5의 왜도: 2.37\n",
      "spline_segment_5에 로그 변환을 적용했습니다 (Shifted).\n",
      "----------\n",
      "spline_segment_6의 왜도: 3.71\n",
      "spline_segment_6에 로그 변환을 적용했습니다 (Shifted).\n",
      "----------\n",
      "spline_segment_7의 왜도: 7.30\n",
      "spline_segment_7에 로그 변환을 적용했습니다 (Shifted).\n",
      "----------\n",
      "tax_liens의 왜도: 5.55\n",
      "tax_liens에 로그 변환을 적용했습니다 (Shifted).\n",
      "----------\n",
      "tot_coll_amt의 왜도: 10.25\n",
      "tot_coll_amt에 로그 변환을 적용했습니다 (Shifted).\n",
      "----------\n",
      "all_util의 왜도: -0.26\n",
      "----------\n",
      "annual_inc의 왜도: 46.88\n",
      "annual_inc에 로그 변환을 적용했습니다.\n",
      "----------\n",
      "chargeoff_within_12_mths의 왜도: 19.44\n",
      "chargeoff_within_12_mths에 로그 변환을 적용했습니다 (Shifted).\n",
      "----------\n",
      "collections_12_mths_ex_med의 왜도: 14.41\n",
      "collections_12_mths_ex_med에 로그 변환을 적용했습니다 (Shifted).\n",
      "----------\n",
      "covid_impact의 왜도: 0.54\n",
      "----------\n",
      "delinq_2yrs의 왜도: 5.68\n",
      "delinq_2yrs에 로그 변환을 적용했습니다 (Shifted).\n",
      "----------\n",
      "delinq_amnt의 왜도: 104.56\n",
      "delinq_amnt에 로그 변환을 적용했습니다 (Shifted).\n",
      "----------\n",
      "dti의 왜도: 0.23\n",
      "dti는 0 미만의 값을 가집니다 (having negative value).\n",
      "----------\n",
      "emp_title의 왜도: -0.43\n",
      "emp_title는 0 미만의 값을 가집니다 (having negative value).\n",
      "----------\n",
      "fico_range_low의 왜도: 1.23\n",
      "fico_range_low에 로그 변환을 적용했습니다.\n",
      "----------\n",
      "funded_amnt의 왜도: 0.81\n",
      "----------\n",
      "grade의 왜도: 0.64\n",
      "----------\n",
      "inq_last_6mths의 왜도: 2.12\n",
      "inq_last_6mths에 로그 변환을 적용했습니다 (Shifted).\n",
      "----------\n",
      "num_actv_rev_tl의 왜도: 1.59\n",
      "num_actv_rev_tl에 로그 변환을 적용했습니다 (Shifted).\n",
      "----------\n",
      "pub_rec_bankruptcies의 왜도: 3.38\n",
      "pub_rec_bankruptcies에 로그 변환을 적용했습니다 (Shifted).\n",
      "----------\n",
      "spline_segment_2의 왜도: 0.94\n",
      "----------\n",
      "spline_segment_3의 왜도: 0.70\n",
      "----------\n",
      "spline_segment_4의 왜도: 1.25\n",
      "spline_segment_4에 로그 변환을 적용했습니다 (Shifted).\n",
      "----------\n",
      "spline_segment_5의 왜도: 2.53\n",
      "spline_segment_5에 로그 변환을 적용했습니다 (Shifted).\n",
      "----------\n",
      "spline_segment_6의 왜도: 4.29\n",
      "spline_segment_6에 로그 변환을 적용했습니다 (Shifted).\n",
      "----------\n",
      "spline_segment_7의 왜도: 10.32\n",
      "spline_segment_7에 로그 변환을 적용했습니다 (Shifted).\n",
      "----------\n",
      "tax_liens의 왜도: 30.33\n",
      "tax_liens에 로그 변환을 적용했습니다 (Shifted).\n",
      "----------\n",
      "tot_coll_amt의 왜도: 613.25\n",
      "tot_coll_amt에 로그 변환을 적용했습니다 (Shifted).\n",
      "----------\n"
     ]
    }
   ],
   "source": [
    "# 원본 데이터프레임에 변환 적용\n",
    "apply_transformations(df)\n",
    "\n",
    "# 테스트 데이터프레임에도 동일한 변환 적용\n",
    "apply_transformations(df_test)\n"
   ]
  },
  {
   "cell_type": "markdown",
   "id": "72d1d22b",
   "metadata": {},
   "source": [
    "### (3) 스케일링 (standardscaler)"
   ]
  },
  {
   "cell_type": "code",
   "execution_count": 114,
   "id": "c92ccd9b",
   "metadata": {},
   "outputs": [],
   "source": [
    "from sklearn.preprocessing import StandardScaler\n",
    "\n",
    "# 숫자형 변수 중 'target'과 'irr' 변수를 제외한 컬럼 선택\n",
    "numeric_columns = df_clipped.select_dtypes(include=['float64', 'int64']).columns\n",
    "numeric_columns = numeric_columns.drop(['target', 'irr', 'total_pymnt'])\n",
    "\n",
    "# StandardScaler 객체 생성\n",
    "scaler = StandardScaler()\n",
    "\n",
    "# df_clipped의 숫자형 변수에 대해 fit 및 transform 적용\n",
    "df[numeric_columns] = scaler.fit_transform(df[numeric_columns])\n",
    "\n",
    "# df_test_clipped의 숫자형 변수에 대해 transform 적용 (fit은 하지 않음)\n",
    "df_test[numeric_columns] = scaler.transform(df_test[numeric_columns])"
   ]
  },
  {
   "cell_type": "markdown",
   "id": "506b0c44",
   "metadata": {},
   "source": [
    "# 3. 회귀가정 확인"
   ]
  },
  {
   "cell_type": "code",
   "execution_count": 115,
   "id": "6f53df9e",
   "metadata": {},
   "outputs": [],
   "source": [
    "#df = df_clipped"
   ]
  },
  {
   "cell_type": "code",
   "execution_count": 116,
   "id": "4ed6cbcd",
   "metadata": {},
   "outputs": [],
   "source": [
    "#df_test = df_test_clipped"
   ]
  },
  {
   "cell_type": "code",
   "execution_count": 117,
   "id": "088794a4",
   "metadata": {},
   "outputs": [],
   "source": [
    "# 데이터프레임 내의 모든 bool 타입 컬럼을 0과 1로 변환\n",
    "df.loc[:, df.select_dtypes(include='bool').columns] = df.select_dtypes(include='bool').astype(int)"
   ]
  },
  {
   "cell_type": "code",
   "execution_count": 118,
   "id": "a34daf31",
   "metadata": {},
   "outputs": [],
   "source": [
    "df_test.loc[:, df_test.select_dtypes(include='bool').columns] = df_test.select_dtypes(include='bool').astype(int)"
   ]
  },
  {
   "cell_type": "markdown",
   "id": "89684562",
   "metadata": {},
   "source": [
    "### 더미변수설정"
   ]
  },
  {
   "cell_type": "markdown",
   "id": "a7342d45",
   "metadata": {},
   "source": [
    "base 변수:\n",
    "1. verification_status: verified\n",
    "2. purpose_debt: consolidation\n",
    "3. home_ownership: Mortgage"
   ]
  },
  {
   "cell_type": "code",
   "execution_count": 119,
   "id": "f2dd2274",
   "metadata": {},
   "outputs": [],
   "source": [
    "columns_to_drop = ['verification_status_Verified', 'purpose_debt_consolidation', 'home_ownership_MORTGAGE']\n",
    "\n",
    "df = df.drop(columns = columns_to_drop)\n",
    "df_test = df_test.drop(columns = columns_to_drop)\n",
    "raw = raw.drop(columns = columns_to_drop) # 원본 데이터도 동일하게 관리"
   ]
  },
  {
   "cell_type": "markdown",
   "id": "38ee92aa",
   "metadata": {},
   "source": [
    "### grade와 sub_grade의 높은 상관성으로 grade 제외"
   ]
  },
  {
   "cell_type": "code",
   "execution_count": 120,
   "id": "adea36cb",
   "metadata": {},
   "outputs": [],
   "source": [
    "df = df.drop(columns = 'grade')\n",
    "df_test = df_test.drop(columns = 'grade')\n",
    "raw = raw.drop(columns = 'grade')\n",
    "raw_train = raw_train.drop(columns = 'grade')"
   ]
  },
  {
   "cell_type": "markdown",
   "id": "19fd1f9c",
   "metadata": {},
   "source": [
    "# 선형회귀 시도"
   ]
  },
  {
   "cell_type": "code",
   "execution_count": 121,
   "id": "78870a9e",
   "metadata": {
    "scrolled": false
   },
   "outputs": [
    {
     "name": "stdout",
     "output_type": "stream",
     "text": [
      "                            OLS Regression Results                            \n",
      "==============================================================================\n",
      "Dep. Variable:                 target   R-squared:                       0.041\n",
      "Model:                            OLS   Adj. R-squared:                  0.041\n",
      "Method:                 Least Squares   F-statistic:                     1069.\n",
      "Date:                Wed, 11 Sep 2024   Prob (F-statistic):               0.00\n",
      "Time:                        14:07:08   Log-Likelihood:            -5.2293e+06\n",
      "No. Observations:             1076079   AIC:                         1.046e+07\n",
      "Df Residuals:                 1076035   BIC:                         1.046e+07\n",
      "Df Model:                          43                                         \n",
      "Covariance Type:            nonrobust                                         \n",
      "=======================================================================================================\n",
      "                                          coef    std err          t      P>|t|      [0.025      0.975]\n",
      "-------------------------------------------------------------------------------------------------------\n",
      "const                                   1.6216      0.076     21.427      0.000       1.473       1.770\n",
      "num_actv_rev_tl                        -0.4307      0.034    -12.764      0.000      -0.497      -0.365\n",
      "dti                                    -0.9748      0.034    -28.854      0.000      -1.041      -0.909\n",
      "fico_range_low                          0.8969      0.042     21.215      0.000       0.814       0.980\n",
      "funded_amnt                            -1.8878      0.040    -46.745      0.000      -1.967      -1.809\n",
      "emp_title                               2.3138      0.031     74.915      0.000       2.253       2.374\n",
      "annual_inc                              1.2655      0.039     32.118      0.000       1.188       1.343\n",
      "verification_status_Not Verified        0.3489      0.084      4.178      0.000       0.185       0.513\n",
      "verification_status_Source Verified    -0.3377      0.076     -4.467      0.000      -0.486      -0.190\n",
      "purpose_car                             0.8084      0.292      2.772      0.006       0.237       1.380\n",
      "purpose_credit_card                     0.4856      0.077      6.346      0.000       0.336       0.636\n",
      "purpose_educational                    -7.8523      2.064     -3.804      0.000     -11.898      -3.806\n",
      "purpose_home_improvement               -1.0632      0.127     -8.363      0.000      -1.312      -0.814\n",
      "purpose_house                          -0.8670      0.390     -2.224      0.026      -1.631      -0.103\n",
      "purpose_major_purchase                 -1.5092      0.206     -7.340      0.000      -1.912      -1.106\n",
      "purpose_medical                        -2.2363      0.280     -7.988      0.000      -2.785      -1.688\n",
      "purpose_moving                         -1.2933      0.364     -3.557      0.000      -2.006      -0.581\n",
      "purpose_other                          -0.4677      0.131     -3.563      0.000      -0.725      -0.210\n",
      "purpose_renewable_energy               -1.7072      1.127     -1.515      0.130      -3.915       0.501\n",
      "purpose_small_business                 -5.6787      0.289    -19.630      0.000      -6.246      -5.112\n",
      "purpose_vacation                       -0.3364      0.358     -0.941      0.347      -1.037       0.364\n",
      "purpose_wedding                         1.5306      0.844      1.813      0.070      -0.124       3.185\n",
      "pub_rec_bankruptcies                   -0.1238      0.031     -3.934      0.000      -0.186      -0.062\n",
      "tax_liens                               0.0108      0.030      0.356      0.722      -0.049       0.070\n",
      "all_util                                0.0706      0.036      1.982      0.047       0.001       0.140\n",
      "chargeoff_within_12_mths               -0.0314      0.030     -1.030      0.303      -0.091       0.028\n",
      "tot_coll_amt                            0.0106      0.032      0.331      0.740      -0.052       0.073\n",
      "covid_impact                           -3.7608      0.033   -113.212      0.000      -3.826      -3.696\n",
      "inq_last_6mths                         -1.1843      0.032    -37.585      0.000      -1.246      -1.123\n",
      "delinq_amnt                            -0.0534      0.030     -1.762      0.078      -0.113       0.006\n",
      "term_ 60 months                        -2.4944      0.089    -28.136      0.000      -2.668      -2.321\n",
      "home_ownership_ANY                     -6.0460      1.165     -5.189      0.000      -8.330      -3.762\n",
      "home_ownership_NONE                     3.9815      6.121      0.650      0.515      -8.015      15.978\n",
      "home_ownership_OTHER                   -3.1257      2.937     -1.064      0.287      -8.883       2.631\n",
      "home_ownership_OWN                     -1.6287      0.102    -16.036      0.000      -1.828      -1.430\n",
      "home_ownership_RENT                    -3.9882      0.069    -58.212      0.000      -4.122      -3.854\n",
      "delinq_2yrs                            -0.0164      0.032     -0.513      0.608      -0.079       0.046\n",
      "collections_12_mths_ex_med             -0.2992      0.031     -9.677      0.000      -0.360      -0.239\n",
      "spline_segment_2                        0.8632      0.053     16.153      0.000       0.758       0.968\n",
      "spline_segment_3                        0.8181      0.051     16.030      0.000       0.718       0.918\n",
      "spline_segment_4                        0.2383      0.053      4.490      0.000       0.134       0.342\n",
      "spline_segment_5                        0.0848      0.046      1.848      0.065      -0.005       0.175\n",
      "spline_segment_6                       -0.1355      0.044     -3.051      0.002      -0.223      -0.048\n",
      "spline_segment_7                       -0.4018      0.037    -10.868      0.000      -0.474      -0.329\n",
      "==============================================================================\n",
      "Omnibus:                   487747.758   Durbin-Watson:                   1.998\n",
      "Prob(Omnibus):                  0.000   Jarque-Bera (JB):        668271152.336\n",
      "Skew:                          -0.581   Prob(JB):                         0.00\n",
      "Kurtosis:                     125.079   Cond. No.                         315.\n",
      "==============================================================================\n",
      "\n",
      "Notes:\n",
      "[1] Standard Errors assume that the covariance matrix of the errors is correctly specified.\n"
     ]
    }
   ],
   "source": [
    "import statsmodels.api as sm\n",
    "\n",
    "# 독립 변수 X에 'total_pymnt', 'irr', 'target'을 제외한 나머지 변수들 선택\n",
    "X = df.drop(columns=['total_pymnt', 'irr', 'target'])\n",
    "\n",
    "# 종속 변수 y 설정\n",
    "y = df['target']\n",
    "\n",
    "# 상수항 추가 (절편을 포함하기 위해)\n",
    "X = sm.add_constant(X)\n",
    "\n",
    "# 회귀 모델 적합\n",
    "model = sm.OLS(y, X)\n",
    "results = model.fit()\n",
    "\n",
    "# 모델 요약 출력\n",
    "print(results.summary())"
   ]
  },
  {
   "cell_type": "markdown",
   "id": "e8f8bb6d",
   "metadata": {},
   "source": [
    "#### test"
   ]
  },
  {
   "cell_type": "code",
   "execution_count": 122,
   "id": "7d675084",
   "metadata": {},
   "outputs": [
    {
     "data": {
      "text/html": [
       "<div>\n",
       "<style scoped>\n",
       "    .dataframe tbody tr th:only-of-type {\n",
       "        vertical-align: middle;\n",
       "    }\n",
       "\n",
       "    .dataframe tbody tr th {\n",
       "        vertical-align: top;\n",
       "    }\n",
       "\n",
       "    .dataframe thead th {\n",
       "        text-align: right;\n",
       "    }\n",
       "</style>\n",
       "<table border=\"1\" class=\"dataframe\">\n",
       "  <thead>\n",
       "    <tr style=\"text-align: right;\">\n",
       "      <th></th>\n",
       "      <th>Actual</th>\n",
       "      <th>Predicted</th>\n",
       "      <th>Difference</th>\n",
       "    </tr>\n",
       "  </thead>\n",
       "  <tbody>\n",
       "    <tr>\n",
       "      <th>0</th>\n",
       "      <td>16.798714</td>\n",
       "      <td>-11.495662</td>\n",
       "      <td>28.294377</td>\n",
       "    </tr>\n",
       "    <tr>\n",
       "      <th>1</th>\n",
       "      <td>13.978714</td>\n",
       "      <td>0.148605</td>\n",
       "      <td>13.830109</td>\n",
       "    </tr>\n",
       "    <tr>\n",
       "      <th>2</th>\n",
       "      <td>7.818714</td>\n",
       "      <td>1.795714</td>\n",
       "      <td>6.023001</td>\n",
       "    </tr>\n",
       "    <tr>\n",
       "      <th>3</th>\n",
       "      <td>19.938714</td>\n",
       "      <td>0.497246</td>\n",
       "      <td>19.441468</td>\n",
       "    </tr>\n",
       "    <tr>\n",
       "      <th>4</th>\n",
       "      <td>9.998714</td>\n",
       "      <td>5.782359</td>\n",
       "      <td>4.216355</td>\n",
       "    </tr>\n",
       "    <tr>\n",
       "      <th>...</th>\n",
       "      <td>...</td>\n",
       "      <td>...</td>\n",
       "      <td>...</td>\n",
       "    </tr>\n",
       "    <tr>\n",
       "      <th>722735</th>\n",
       "      <td>16.564750</td>\n",
       "      <td>-7.082593</td>\n",
       "      <td>23.647343</td>\n",
       "    </tr>\n",
       "    <tr>\n",
       "      <th>722736</th>\n",
       "      <td>23.454750</td>\n",
       "      <td>-12.173133</td>\n",
       "      <td>35.627883</td>\n",
       "    </tr>\n",
       "    <tr>\n",
       "      <th>722737</th>\n",
       "      <td>30.964750</td>\n",
       "      <td>-14.020597</td>\n",
       "      <td>44.985347</td>\n",
       "    </tr>\n",
       "    <tr>\n",
       "      <th>722738</th>\n",
       "      <td>11.694750</td>\n",
       "      <td>-7.638344</td>\n",
       "      <td>19.333094</td>\n",
       "    </tr>\n",
       "    <tr>\n",
       "      <th>722739</th>\n",
       "      <td>30.964750</td>\n",
       "      <td>-12.671089</td>\n",
       "      <td>43.635839</td>\n",
       "    </tr>\n",
       "  </tbody>\n",
       "</table>\n",
       "<p>722740 rows × 3 columns</p>\n",
       "</div>"
      ],
      "text/plain": [
       "           Actual  Predicted  Difference\n",
       "0       16.798714 -11.495662   28.294377\n",
       "1       13.978714   0.148605   13.830109\n",
       "2        7.818714   1.795714    6.023001\n",
       "3       19.938714   0.497246   19.441468\n",
       "4        9.998714   5.782359    4.216355\n",
       "...           ...        ...         ...\n",
       "722735  16.564750  -7.082593   23.647343\n",
       "722736  23.454750 -12.173133   35.627883\n",
       "722737  30.964750 -14.020597   44.985347\n",
       "722738  11.694750  -7.638344   19.333094\n",
       "722739  30.964750 -12.671089   43.635839\n",
       "\n",
       "[722740 rows x 3 columns]"
      ]
     },
     "execution_count": 122,
     "metadata": {},
     "output_type": "execute_result"
    }
   ],
   "source": [
    "import statsmodels.api as sm\n",
    "\n",
    "# 새로운 데이터프레임에 대한 전처리 (학습 데이터와 동일한 전처리 적용)\n",
    "# new_df = ...  # 새 데이터 로드 또는 생성\n",
    "new_X = df_test.drop(columns=['total_pymnt', 'irr', 'target'])  # 타겟 변수 및 불필요한 변수 제거\n",
    "new_y = df_test['target']\n",
    "\n",
    "# 상수항 추가 (절편 포함)\n",
    "new_X = sm.add_constant(new_X)\n",
    "\n",
    "# 학습된 모델을 이용해 예측 수행\n",
    "new_predictions = results.predict(new_X)\n",
    "\n",
    "# 예측 결과와 실제 값을 비교하는 데이터프레임 생성\n",
    "comparison_df = pd.DataFrame({\n",
    "    'Actual': new_y,                  # 실제 값\n",
    "    'Predicted': new_predictions,     # 예측 값\n",
    "    'Difference': new_y - new_predictions  # 실제 값과 예측 값의 차이\n",
    "})\n",
    "\n",
    "comparison_df"
   ]
  },
  {
   "cell_type": "markdown",
   "id": "ea916200",
   "metadata": {},
   "source": [
    "## 다중공선성"
   ]
  },
  {
   "cell_type": "code",
   "execution_count": 71,
   "id": "00ec8cdc",
   "metadata": {},
   "outputs": [
    {
     "name": "stdout",
     "output_type": "stream",
     "text": [
      "                                feature       VIF\n",
      "0                                 const  6.328134\n",
      "1                       num_actv_rev_tl  1.257779\n",
      "2                                   dti  1.261103\n",
      "3                        fico_range_low  1.974667\n",
      "4                           funded_amnt  1.802004\n",
      "5                             emp_title  1.053970\n",
      "6                            annual_inc  1.715259\n",
      "7      verification_status_Not Verified  1.663864\n",
      "8   verification_status_Source Verified  1.513597\n",
      "9                           purpose_car  1.018516\n",
      "10                  purpose_credit_card  1.122472\n",
      "11                  purpose_educational  1.001770\n",
      "12             purpose_home_improvement  1.096475\n",
      "13                        purpose_house  1.011932\n",
      "14               purpose_major_purchase  1.032172\n",
      "15                      purpose_medical  1.020080\n",
      "16                       purpose_moving  1.020125\n",
      "17                        purpose_other  1.090872\n",
      "18             purpose_renewable_energy  1.001492\n",
      "19               purpose_small_business  1.023062\n",
      "20                     purpose_vacation  1.018092\n",
      "21                      purpose_wedding  1.004227\n",
      "22                 pub_rec_bankruptcies  1.094939\n",
      "23                            tax_liens  1.016977\n",
      "24                             all_util  1.401899\n",
      "25             chargeoff_within_12_mths  1.026303\n",
      "26                         tot_coll_amt  1.133533\n",
      "27                         covid_impact  1.219199\n",
      "28                       inq_last_6mths  1.096944\n",
      "29                          delinq_amnt  1.016119\n",
      "30                      term_ 60 months  1.612918\n",
      "31                   home_ownership_ANY  1.001520\n",
      "32                  home_ownership_NONE  1.000115\n",
      "33                 home_ownership_OTHER  1.000913\n",
      "34                   home_ownership_OWN  1.122952\n",
      "35                  home_ownership_RENT  1.246494\n",
      "36                          delinq_2yrs  1.133103\n",
      "37           collections_12_mths_ex_med  1.056213\n",
      "38                     spline_segment_2  3.155291\n",
      "39                     spline_segment_3  2.877390\n",
      "40                     spline_segment_4  3.113386\n",
      "41                     spline_segment_5  2.324539\n",
      "42                     spline_segment_6  2.179987\n",
      "43                     spline_segment_7  1.510413\n"
     ]
    }
   ],
   "source": [
    "from statsmodels.stats.outliers_influence import variance_inflation_factor\n",
    "\n",
    "# VIF 데이터프레임 생성\n",
    "vif_data = pd.DataFrame()\n",
    "vif_data[\"feature\"] = X.columns\n",
    "vif_data[\"VIF\"] = [variance_inflation_factor(X.values, i) for i in range(X.shape[1])]\n",
    "\n",
    "# VIF 점수 출력\n",
    "print(vif_data)"
   ]
  },
  {
   "cell_type": "code",
   "execution_count": 125,
   "id": "ffee7a9d",
   "metadata": {},
   "outputs": [
    {
     "name": "stdout",
     "output_type": "stream",
     "text": [
      "Confusion Matrix:\n",
      " [[ 93511  34674]\n",
      " [291113 303442]]\n",
      "\n",
      "Classification Report:\n",
      "               precision    recall  f1-score   support\n",
      "\n",
      "           0       0.24      0.73      0.36    128185\n",
      "           1       0.90      0.51      0.65    594555\n",
      "\n",
      "    accuracy                           0.55    722740\n",
      "   macro avg       0.57      0.62      0.51    722740\n",
      "weighted avg       0.78      0.55      0.60    722740\n",
      "\n"
     ]
    }
   ],
   "source": [
    "from sklearn.metrics import confusion_matrix, classification_report\n",
    "\n",
    "# 양수는 1, 음수는 0으로 변환\n",
    "comparison_df['Actual_Binary'] = comparison_df['Actual'].apply(lambda x: 1 if x > 0 else 0)\n",
    "comparison_df['Predicted_Binary'] = comparison_df['Predicted'].apply(lambda x: 1 if x > 0 else 0)\n",
    "\n",
    "# 일치 여부 확인 (True if matching, False otherwise)\n",
    "comparison_df['Match'] = comparison_df['Actual_Binary'] == comparison_df['Predicted_Binary']\n",
    "\n",
    "# 혼동 행렬 생성\n",
    "cm = confusion_matrix(comparison_df['Actual_Binary'], comparison_df['Predicted_Binary'])\n",
    "print('Confusion Matrix:\\n', cm)\n",
    "\n",
    "# 분류 지표 생성\n",
    "report = classification_report(comparison_df['Actual_Binary'], comparison_df['Predicted_Binary'])\n",
    "print('\\nClassification Report:\\n', report)\n"
   ]
  },
  {
   "cell_type": "code",
   "execution_count": 128,
   "id": "7feb86e6",
   "metadata": {},
   "outputs": [
    {
     "data": {
      "image/png": "[encoded data removed]",
      "text/plain": [
       "<Figure size 640x480 with 1 Axes>"
      ]
     },
     "metadata": {},
     "output_type": "display_data"
    }
   ],
   "source": [
    "import matplotlib.pyplot as plt\n",
    "\n",
    "# 잔차 vs 예측값 플롯\n",
    "plt.scatter(results.fittedvalues, residuals)\n",
    "plt.axhline(y=0, color='r', linestyle='--')\n",
    "plt.xlabel('Fitted Values')\n",
    "plt.ylabel('Residuals')\n",
    "plt.title('Residuals vs Fitted Values')\n",
    "plt.show()\n"
   ]
  },
  {
   "cell_type": "markdown",
   "id": "bb328c39",
   "metadata": {},
   "source": [
    "##### 이상치 제거"
   ]
  },
  {
   "cell_type": "code",
   "execution_count": 129,
   "id": "f2097c4e",
   "metadata": {},
   "outputs": [
    {
     "name": "stdout",
     "output_type": "stream",
     "text": [
      "제거된 데이터포인트의 인덱스: Index([400104, 443429, 496576, 586241, 789970, 845029, 845101, 863079, 906116,\n",
      "       1005184],\n",
      "      dtype='int64')\n"
     ]
    }
   ],
   "source": [
    "# 잔차가 250 이상인 데이터포인트의 인덱스를 찾음\n",
    "high_residuals_index = residuals[residuals.abs() >= 250].index\n",
    "\n",
    "# 해당 인덱스의 데이터포인트 제거\n",
    "df = df.drop(index=high_residuals_index)\n",
    "\n",
    "# 결과 확인\n",
    "print(f\"제거된 데이터포인트의 인덱스: {high_residuals_index}\")\n"
   ]
  },
  {
   "cell_type": "code",
   "execution_count": 130,
   "id": "0180609d",
   "metadata": {},
   "outputs": [],
   "source": [
    "raw_train = raw_train.drop(index = high_residuals_index)"
   ]
  },
  {
   "cell_type": "markdown",
   "id": "b15c3035",
   "metadata": {},
   "source": [
    "# 모델1. 선형회귀 통한 분류\n"
   ]
  },
  {
   "cell_type": "code",
   "execution_count": 84,
   "id": "302e345e",
   "metadata": {},
   "outputs": [
    {
     "name": "stdout",
     "output_type": "stream",
     "text": [
      "                            OLS Regression Results                            \n",
      "==============================================================================\n",
      "Dep. Variable:                 target   R-squared:                       0.042\n",
      "Model:                            OLS   Adj. R-squared:                  0.042\n",
      "Method:                 Least Squares   F-statistic:                     1086.\n",
      "Date:                Wed, 11 Sep 2024   Prob (F-statistic):               0.00\n",
      "Time:                        08:37:43   Log-Likelihood:            -5.2201e+06\n",
      "No. Observations:             1076069   AIC:                         1.044e+07\n",
      "Df Residuals:                 1076025   BIC:                         1.044e+07\n",
      "Df Model:                          43                                         \n",
      "Covariance Type:            nonrobust                                         \n",
      "=======================================================================================================\n",
      "                                          coef    std err          t      P>|t|      [0.025      0.975]\n",
      "-------------------------------------------------------------------------------------------------------\n",
      "const                                   1.6021      0.075     21.350      0.000       1.455       1.749\n",
      "num_actv_rev_tl                        -0.4097      0.033    -12.246      0.000      -0.475      -0.344\n",
      "dti                                    -0.9686      0.033    -28.916      0.000      -1.034      -0.903\n",
      "fico_range_low                          0.8934      0.042     21.313      0.000       0.811       0.976\n",
      "funded_amnt                            -1.8791      0.040    -46.929      0.000      -1.958      -1.801\n",
      "emp_title                               2.3054      0.031     75.282      0.000       2.245       2.365\n",
      "annual_inc                              1.2593      0.039     32.235      0.000       1.183       1.336\n",
      "verification_status_Not Verified        0.3736      0.083      4.511      0.000       0.211       0.536\n",
      "verification_status_Source Verified    -0.3147      0.075     -4.198      0.000      -0.462      -0.168\n",
      "purpose_car                             0.8278      0.289      2.863      0.004       0.261       1.395\n",
      "purpose_credit_card                     0.4825      0.076      6.359      0.000       0.334       0.631\n",
      "purpose_educational                    -7.8379      2.047     -3.829      0.000     -11.850      -3.826\n",
      "purpose_home_improvement               -1.0999      0.126     -8.725      0.000      -1.347      -0.853\n",
      "purpose_house                          -0.8323      0.387     -2.153      0.031      -1.590      -0.075\n",
      "purpose_major_purchase                 -1.5265      0.204     -7.488      0.000      -1.926      -1.127\n",
      "purpose_medical                        -2.2166      0.278     -7.986      0.000      -2.761      -1.673\n",
      "purpose_moving                         -1.2642      0.360     -3.507      0.000      -1.971      -0.558\n",
      "purpose_other                          -0.4705      0.130     -3.615      0.000      -0.726      -0.215\n",
      "purpose_renewable_energy               -1.6783      1.117     -1.502      0.133      -3.868       0.511\n",
      "purpose_small_business                 -5.6456      0.287    -19.683      0.000      -6.208      -5.083\n",
      "purpose_vacation                       -0.3171      0.354     -0.895      0.371      -1.012       0.378\n",
      "purpose_wedding                         1.5577      0.837      1.861      0.063      -0.083       3.198\n",
      "pub_rec_bankruptcies                   -0.1205      0.031     -3.860      0.000      -0.182      -0.059\n",
      "tax_liens                               0.0130      0.030      0.432      0.666      -0.046       0.072\n",
      "all_util                                0.0870      0.035      2.464      0.014       0.018       0.156\n",
      "chargeoff_within_12_mths               -0.0310      0.030     -1.026      0.305      -0.090       0.028\n",
      "tot_coll_amt                            0.0058      0.032      0.182      0.855      -0.056       0.068\n",
      "covid_impact                           -3.7557      0.033   -114.028      0.000      -3.820      -3.691\n",
      "inq_last_6mths                         -1.1802      0.031    -37.776      0.000      -1.241      -1.119\n",
      "delinq_amnt                            -0.0531      0.030     -1.765      0.078      -0.112       0.006\n",
      "term_ 60 months                        -2.4964      0.088    -28.399      0.000      -2.669      -2.324\n",
      "home_ownership_ANY                     -6.0466      1.155     -5.234      0.000      -8.311      -3.782\n",
      "home_ownership_NONE                     4.0062      6.069      0.660      0.509      -7.889      15.901\n",
      "home_ownership_OTHER                   -3.1091      2.912     -1.068      0.286      -8.817       2.599\n",
      "home_ownership_OWN                     -1.6670      0.101    -16.553      0.000      -1.864      -1.470\n",
      "home_ownership_RENT                    -3.9870      0.068    -58.694      0.000      -4.120      -3.854\n",
      "delinq_2yrs                            -0.0111      0.032     -0.350      0.727      -0.073       0.051\n",
      "collections_12_mths_ex_med             -0.2972      0.031     -9.694      0.000      -0.357      -0.237\n",
      "spline_segment_2                        0.8522      0.053     16.083      0.000       0.748       0.956\n",
      "spline_segment_3                        0.8066      0.051     15.940      0.000       0.707       0.906\n",
      "spline_segment_4                        0.2211      0.053      4.201      0.000       0.118       0.324\n",
      "spline_segment_5                        0.0641      0.045      1.410      0.158      -0.025       0.153\n",
      "spline_segment_6                       -0.1392      0.044     -3.162      0.002      -0.226      -0.053\n",
      "spline_segment_7                       -0.4269      0.037    -11.644      0.000      -0.499      -0.355\n",
      "==============================================================================\n",
      "Omnibus:                   390106.009   Durbin-Watson:                   1.998\n",
      "Prob(Omnibus):                  0.000   Jarque-Bera (JB):          1136294.876\n",
      "Skew:                          -1.967   Prob(JB):                         0.00\n",
      "Kurtosis:                       6.142   Cond. No.                         315.\n",
      "==============================================================================\n",
      "\n",
      "Notes:\n",
      "[1] Standard Errors assume that the covariance matrix of the errors is correctly specified.\n"
     ]
    }
   ],
   "source": [
    "# 독립 변수 X에 'total_pymnt', 'irr', 'target'을 제외한 나머지 변수들 선택\n",
    "X = df.drop(columns=['total_pymnt', 'irr', 'target'])\n",
    "\n",
    "# 종속 변수 y 설정\n",
    "y = df['target']\n",
    "\n",
    "# 상수항 추가 (절편을 포함하기 위해)\n",
    "X = sm.add_constant(X)\n",
    "\n",
    "# 회귀 모델 적합\n",
    "model = sm.OLS(y, X)\n",
    "results = model.fit()\n",
    "\n",
    "# 모델 요약 출력\n",
    "print(results.summary())"
   ]
  },
  {
   "cell_type": "code",
   "execution_count": 85,
   "id": "1e1b54d9",
   "metadata": {},
   "outputs": [
    {
     "data": {
      "text/html": [
       "<div>\n",
       "<style scoped>\n",
       "    .dataframe tbody tr th:only-of-type {\n",
       "        vertical-align: middle;\n",
       "    }\n",
       "\n",
       "    .dataframe tbody tr th {\n",
       "        vertical-align: top;\n",
       "    }\n",
       "\n",
       "    .dataframe thead th {\n",
       "        text-align: right;\n",
       "    }\n",
       "</style>\n",
       "<table border=\"1\" class=\"dataframe\">\n",
       "  <thead>\n",
       "    <tr style=\"text-align: right;\">\n",
       "      <th></th>\n",
       "      <th>Actual</th>\n",
       "      <th>Predicted</th>\n",
       "      <th>Difference</th>\n",
       "    </tr>\n",
       "  </thead>\n",
       "  <tbody>\n",
       "    <tr>\n",
       "      <th>0</th>\n",
       "      <td>16.798714</td>\n",
       "      <td>-11.438486</td>\n",
       "      <td>28.237200</td>\n",
       "    </tr>\n",
       "    <tr>\n",
       "      <th>1</th>\n",
       "      <td>13.978714</td>\n",
       "      <td>0.166386</td>\n",
       "      <td>13.812328</td>\n",
       "    </tr>\n",
       "    <tr>\n",
       "      <th>2</th>\n",
       "      <td>7.818714</td>\n",
       "      <td>1.830258</td>\n",
       "      <td>5.988456</td>\n",
       "    </tr>\n",
       "    <tr>\n",
       "      <th>3</th>\n",
       "      <td>19.938714</td>\n",
       "      <td>0.474721</td>\n",
       "      <td>19.463993</td>\n",
       "    </tr>\n",
       "    <tr>\n",
       "      <th>4</th>\n",
       "      <td>9.998714</td>\n",
       "      <td>5.771535</td>\n",
       "      <td>4.227179</td>\n",
       "    </tr>\n",
       "    <tr>\n",
       "      <th>...</th>\n",
       "      <td>...</td>\n",
       "      <td>...</td>\n",
       "      <td>...</td>\n",
       "    </tr>\n",
       "    <tr>\n",
       "      <th>722735</th>\n",
       "      <td>16.564750</td>\n",
       "      <td>-7.085819</td>\n",
       "      <td>23.650569</td>\n",
       "    </tr>\n",
       "    <tr>\n",
       "      <th>722736</th>\n",
       "      <td>23.454750</td>\n",
       "      <td>-12.173722</td>\n",
       "      <td>35.628472</td>\n",
       "    </tr>\n",
       "    <tr>\n",
       "      <th>722737</th>\n",
       "      <td>30.964750</td>\n",
       "      <td>-13.936702</td>\n",
       "      <td>44.901452</td>\n",
       "    </tr>\n",
       "    <tr>\n",
       "      <th>722738</th>\n",
       "      <td>11.694750</td>\n",
       "      <td>-7.607652</td>\n",
       "      <td>19.302402</td>\n",
       "    </tr>\n",
       "    <tr>\n",
       "      <th>722739</th>\n",
       "      <td>30.964750</td>\n",
       "      <td>-12.628611</td>\n",
       "      <td>43.593361</td>\n",
       "    </tr>\n",
       "  </tbody>\n",
       "</table>\n",
       "<p>722740 rows × 3 columns</p>\n",
       "</div>"
      ],
      "text/plain": [
       "           Actual  Predicted  Difference\n",
       "0       16.798714 -11.438486   28.237200\n",
       "1       13.978714   0.166386   13.812328\n",
       "2        7.818714   1.830258    5.988456\n",
       "3       19.938714   0.474721   19.463993\n",
       "4        9.998714   5.771535    4.227179\n",
       "...           ...        ...         ...\n",
       "722735  16.564750  -7.085819   23.650569\n",
       "722736  23.454750 -12.173722   35.628472\n",
       "722737  30.964750 -13.936702   44.901452\n",
       "722738  11.694750  -7.607652   19.302402\n",
       "722739  30.964750 -12.628611   43.593361\n",
       "\n",
       "[722740 rows x 3 columns]"
      ]
     },
     "execution_count": 85,
     "metadata": {},
     "output_type": "execute_result"
    }
   ],
   "source": [
    "# 독립 변수 X에 'total_pymnt', 'irr', 'target'을 제외한 나머지 변수들 선택\n",
    "new_X = df_test.drop(columns=['total_pymnt', 'irr', 'target'])\n",
    "\n",
    "# 종속 변수 y 설정\n",
    "new_y = df_test['target']\n",
    "\n",
    "# 상수항 추가 (절편을 포함하기 위해)\n",
    "new_X = sm.add_constant(new_X)\n",
    "\n",
    "\n",
    "# 학습된 모델을 이용해 예측 수행\n",
    "new_predictions = results.predict(new_X)\n",
    "\n",
    "# 예측 결과와 실제 값을 비교하는 데이터프레임 생성\n",
    "comparison_df = pd.DataFrame({\n",
    "    'Actual': new_y,                  # 실제 값\n",
    "    'Predicted': new_predictions,     # 예측 값\n",
    "    'Difference': new_y - new_predictions  # 실제 값과 예측 값의 차이\n",
    "})\n",
    "\n",
    "comparison_df"
   ]
  },
  {
   "cell_type": "code",
   "execution_count": 86,
   "id": "a4ef0474",
   "metadata": {},
   "outputs": [
    {
     "name": "stdout",
     "output_type": "stream",
     "text": [
      "Confusion Matrix:\n",
      " [[ 93570  34615]\n",
      " [291323 303232]]\n",
      "\n",
      "Classification Report:\n",
      "               precision    recall  f1-score   support\n",
      "\n",
      "           0       0.24      0.73      0.36    128185\n",
      "           1       0.90      0.51      0.65    594555\n",
      "\n",
      "    accuracy                           0.55    722740\n",
      "   macro avg       0.57      0.62      0.51    722740\n",
      "weighted avg       0.78      0.55      0.60    722740\n",
      "\n"
     ]
    }
   ],
   "source": [
    "from sklearn.metrics import confusion_matrix, classification_report\n",
    "\n",
    "# 양수는 1, 음수는 0으로 변환\n",
    "comparison_df['Actual_Binary'] = comparison_df['Actual'].apply(lambda x: 1 if x > 0 else 0)\n",
    "comparison_df['Predicted_Binary'] = comparison_df['Predicted'].apply(lambda x: 1 if x > 0 else 0)\n",
    "\n",
    "# 일치 여부 확인 (True if matching, False otherwise)\n",
    "comparison_df['Match'] = comparison_df['Actual_Binary'] == comparison_df['Predicted_Binary']\n",
    "\n",
    "# 혼동 행렬 생성\n",
    "cm = confusion_matrix(comparison_df['Actual_Binary'], comparison_df['Predicted_Binary'])\n",
    "print('Confusion Matrix:\\n', cm)\n",
    "\n",
    "# 분류 지표 생성\n",
    "report = classification_report(comparison_df['Actual_Binary'], comparison_df['Predicted_Binary'])\n",
    "print('\\nClassification Report:\\n', report)\n"
   ]
  },
  {
   "cell_type": "code",
   "execution_count": 87,
   "id": "5f7a3652",
   "metadata": {},
   "outputs": [
    {
     "data": {
      "image/png": "[encoded data removed]",
      "text/plain": [
       "<Figure size 640x480 with 1 Axes>"
      ]
     },
     "metadata": {},
     "output_type": "display_data"
    }
   ],
   "source": [
    "import matplotlib.pyplot as plt\n",
    "\n",
    "residuals = results.resid\n",
    "\n",
    "# 잔차 vs 예측값 plot\n",
    "plt.scatter(results.fittedvalues, residuals)\n",
    "plt.axhline(y=0, color='r', linestyle='--')\n",
    "plt.xlabel('Fitted Values')\n",
    "plt.ylabel('Residuals')\n",
    "plt.title('Residuals vs Fitted Values')\n",
    "plt.show()"
   ]
  },
  {
   "cell_type": "markdown",
   "id": "578c7a22",
   "metadata": {},
   "source": [
    "# 로지스틱 회귀 + L1 Regulation 적용"
   ]
  },
  {
   "cell_type": "code",
   "execution_count": 139,
   "id": "b8c4c3b0",
   "metadata": {},
   "outputs": [
    {
     "name": "stdout",
     "output_type": "stream",
     "text": [
      "Best C (L1 Regularization Strength): 10000.0\n",
      "Best Threshold for Maximum Profit: 0.32323232323232326\n",
      "\n",
      "Confusion Matrix:\n",
      "              precision    recall  f1-score   support\n",
      "\n",
      "           0       0.33      0.27      0.29     18995\n",
      "           1       0.85      0.88      0.87     88612\n",
      "\n",
      "    accuracy                           0.78    107607\n",
      "   macro avg       0.59      0.57      0.58    107607\n",
      "weighted avg       0.76      0.78      0.77    107607\n",
      "\n",
      "Maximum Profit: 78337201.37617296\n"
     ]
    }
   ],
   "source": [
    "import statsmodels.api as sm\n",
    "import numpy as np\n",
    "import pandas as pd\n",
    "from imblearn.over_sampling import SMOTE\n",
    "from sklearn.model_selection import train_test_split\n",
    "from sklearn.linear_model import LogisticRegression\n",
    "from sklearn.metrics import classification_report\n",
    "\n",
    "# 종속 변수 y 설정 (0 이하인 경우 0, 0 초과인 경우 1로 변환)\n",
    "y = (df['target'] > 0).astype(int)\n",
    "\n",
    "# 독립 변수 설정 및 상수항 추가\n",
    "X = df.drop(columns=['total_pymnt', 'irr', 'target'])\n",
    "X = sm.add_constant(X)\n",
    "\n",
    "# Train-Validation Split (9:1) with indices\n",
    "X_train, X_val, y_train, y_val, train_idx, val_idx = train_test_split(\n",
    "    X, y, X.index, test_size=0.1, random_state=42, stratify=y)\n",
    "\n",
    "# raw_train에서 원본 데이터를 인덱스를 통해 분할\n",
    "original_train = raw_train.loc[train_idx]\n",
    "original_val = raw_train.loc[val_idx]\n",
    "\n",
    "# SMOTE 적용하여 클래스 불균형 해결\n",
    "smote = SMOTE(random_state=42)\n",
    "X_train_resampled, y_train_resampled = smote.fit_resample(X_train, y_train)\n",
    "\n",
    "# L1 Regularization을 사용하는 Logistic Regression 모델 초기화\n",
    "log_reg = LogisticRegression(penalty='l1', solver='liblinear', random_state=42)\n",
    "\n",
    "# 사용자 정의 수익 계산 함수\n",
    "def calculate_profit(y_true, y_pred, original_val):\n",
    "    # 수익 계산: total_pymnt - funded_amnt\n",
    "    profit_values = original_val.loc[y_true.index, 'total_pymnt'] - original_val.loc[y_true.index, 'funded_amnt']\n",
    "    \n",
    "    # 총 수익: 대출이 승인된 경우 (y_pred == 1)에서만 수익을 더함\n",
    "    total_profit = np.sum(profit_values[y_pred == 1])\n",
    "    \n",
    "    return total_profit\n",
    "\n",
    "# Grid Search의 하이퍼파라미터 범위\n",
    "param_grid = {'C': np.logspace(-4, 4, 20)}\n",
    "\n",
    "best_profit = -np.inf\n",
    "best_model = None\n",
    "best_threshold = 0.5\n",
    "\n",
    "# 하이퍼파라미터 탐색\n",
    "for C in param_grid['C']:\n",
    "    log_reg.set_params(C=C)\n",
    "    log_reg.fit(X_train_resampled, y_train_resampled)\n",
    "    \n",
    "    # Validation set에 대한 예측\n",
    "    y_val_pred_probs = log_reg.predict_proba(X_val)[:, 1]\n",
    "    \n",
    "    # 임계값 최적화를 통한 수익 최대화\n",
    "    thresholds = np.linspace(0, 1, 100)\n",
    "    for threshold in thresholds:\n",
    "        y_val_pred_class = (y_val_pred_probs > threshold).astype(int)\n",
    "        profit = calculate_profit(y_val, y_val_pred_class, original_val)\n",
    "        \n",
    "        # 최대 수익을 기록하고 최적의 모델과 임계값 저장\n",
    "        if profit > best_profit:\n",
    "            best_profit = profit\n",
    "            best_model = log_reg\n",
    "            best_threshold = threshold\n",
    "\n",
    "# 최적의 모델 및 임계값으로 예측 및 평가\n",
    "y_val_pred_class = (best_model.predict_proba(X_val)[:, 1] > best_threshold).astype(int)\n",
    "\n",
    "# 성능 평가 출력\n",
    "print(f\"Best C (L1 Regularization Strength): {best_model.get_params()['C']}\")\n",
    "print(f\"Best Threshold for Maximum Profit: {best_threshold}\")\n",
    "print(\"\\nConfusion Matrix:\")\n",
    "print(classification_report(y_val, y_val_pred_class))\n",
    "print(f\"Maximum Profit: {best_profit}\")\n"
   ]
  },
  {
   "cell_type": "code",
   "execution_count": 157,
   "id": "e9c9e743",
   "metadata": {},
   "outputs": [
    {
     "data": {
      "image/png": "[encoded data removed]",
      "text/plain": [
       "<Figure size 1000x800 with 1 Axes>"
      ]
     },
     "metadata": {},
     "output_type": "display_data"
    }
   ],
   "source": [
    "import matplotlib.pyplot as plt\n",
    "import seaborn as sns\n",
    "\n",
    "# 회귀계수 추출\n",
    "coefficients = best_model.coef_[0]\n",
    "feature_names = X.columns\n",
    "\n",
    "# 계수를 데이터프레임으로 변환\n",
    "coef_df = pd.DataFrame({\n",
    "    'Feature': feature_names,\n",
    "    'Coefficient': coefficients\n",
    "})\n",
    "\n",
    "# 계수의 절대값에 따라 정렬\n",
    "coef_df = coef_df.sort_values(by='Coefficient', ascending=False)\n",
    "\n",
    "# 회귀계수 플롯 생성\n",
    "plt.figure(figsize=(10, 8))\n",
    "sns.barplot(x='Coefficient', y='Feature', data=coef_df, palette='coolwarm')\n",
    "\n",
    "# 플롯 설정\n",
    "plt.title('Logistic Regression Coefficients')\n",
    "plt.axvline(x=0, color='grey', linestyle='--')  # 기준선 추가\n",
    "plt.xlabel('Coefficient Value')\n",
    "plt.ylabel('Feature')\n",
    "\n",
    "plt.show()\n"
   ]
  },
  {
   "cell_type": "code",
   "execution_count": 143,
   "id": "4953df09",
   "metadata": {},
   "outputs": [
    {
     "data": {
      "text/plain": [
       "807049     10159.197571\n",
       "4515        9580.350000\n",
       "288412      6946.060000\n",
       "1009239     6975.550000\n",
       "389071     10933.051575\n",
       "               ...     \n",
       "344449     42822.228124\n",
       "119518     10434.090529\n",
       "568626      3872.280000\n",
       "326229      7351.233019\n",
       "392411     16537.950000\n",
       "Name: total_pymnt, Length: 107607, dtype: float64"
      ]
     },
     "execution_count": 143,
     "metadata": {},
     "output_type": "execute_result"
    }
   ],
   "source": [
    "original_val['total_pymnt']"
   ]
  },
  {
   "cell_type": "code",
   "execution_count": 145,
   "id": "fad15148",
   "metadata": {},
   "outputs": [
    {
     "data": {
      "text/plain": [
       "69746719.51874596"
      ]
     },
     "execution_count": 145,
     "metadata": {},
     "output_type": "execute_result"
    }
   ],
   "source": [
    "sum(original_val['total_pymnt'] - original_val['funded_amnt'])"
   ]
  },
  {
   "cell_type": "code",
   "execution_count": 146,
   "id": "0a6adf49",
   "metadata": {},
   "outputs": [
    {
     "data": {
      "text/plain": [
       "8590481.857427001"
      ]
     },
     "execution_count": 146,
     "metadata": {},
     "output_type": "execute_result"
    }
   ],
   "source": [
    "78337201.37617296-69746719.51874596"
   ]
  },
  {
   "cell_type": "markdown",
   "id": "b32af26b",
   "metadata": {},
   "source": [
    "우선 사용할 데이터프레임은 이미 전체의 40%가 분할이 되어있던 df_test이고\n",
    "위의 코드에서 raw_train이었던게 이제 raw가 되고 (df_test의 스케일링 전 원본에 해당)\n",
    "여기서도 위의 코드의 형식을 이어받아서 성능이 어떤지 test해주면 돼"
   ]
  },
  {
   "cell_type": "code",
   "execution_count": 148,
   "id": "b0ef3009",
   "metadata": {},
   "outputs": [
    {
     "name": "stdout",
     "output_type": "stream",
     "text": [
      "\n",
      "Confusion Matrix:\n",
      "              precision    recall  f1-score   support\n",
      "\n",
      "           0       0.33      0.30      0.31    128185\n",
      "           1       0.85      0.87      0.86    594555\n",
      "\n",
      "    accuracy                           0.77    722740\n",
      "   macro avg       0.59      0.58      0.59    722740\n",
      "weighted avg       0.76      0.77      0.76    722740\n",
      "\n",
      "Maximum Profit on Test Set: 474144837.5243046\n"
     ]
    }
   ],
   "source": [
    "import numpy as np\n",
    "from sklearn.metrics import classification_report\n",
    "\n",
    "# 종속 변수 y_test 설정 (0 이하인 경우 0, 0 초과인 경우 1로 변환)\n",
    "y_test = (df_test['target'] > 0).astype(int)\n",
    "\n",
    "# 독립 변수 설정 및 상수항 추가\n",
    "X_test = df_test.drop(columns=['total_pymnt', 'irr', 'target'])\n",
    "X_test = sm.add_constant(X_test)\n",
    "\n",
    "# Test Set에 대해 원본 데이터를 인덱스를 통해 분할\n",
    "test_idx = X_test.index\n",
    "original_test = raw.loc[test_idx]  # raw 데이터의 원본에서 분할\n",
    "\n",
    "# 최적의 모델을 사용하여 Test Set에 대한 예측 확률 계산\n",
    "y_test_pred_probs = best_model.predict_proba(X_test)[:, 1]\n",
    "\n",
    "# 최적의 임계값을 사용하여 Test Set의 예측 클래스 계산\n",
    "y_test_pred_class = (y_test_pred_probs > best_threshold).astype(int)\n",
    "\n",
    "# 수익 계산 함수 - validation에서 사용한 동일한 함수 사용\n",
    "def profit_metric(y_true, y_pred, original):\n",
    "    # 수익 계산: total_pymnt - funded_amnt\n",
    "    profit_values = original.loc[y_true.index, 'total_pymnt'] - original.loc[y_true.index, 'funded_amnt']\n",
    "    # 총 수익: 대출이 승인된 경우 (y_pred == 1)에서만 수익을 더함\n",
    "    total_profit = np.sum(profit_values[y_pred == 1])\n",
    "    return total_profit\n",
    "\n",
    "# Test Set에 대해 수익 계산\n",
    "test_profit = profit_metric(y_test, y_test_pred_class, original_test)\n",
    "\n",
    "# 성능 평가 출력\n",
    "print(\"\\nConfusion Matrix:\")\n",
    "print(classification_report(y_test, y_test_pred_class))\n",
    "print(f\"Maximum Profit on Test Set: {test_profit}\")\n"
   ]
  },
  {
   "cell_type": "code",
   "execution_count": 150,
   "id": "e1354956",
   "metadata": {},
   "outputs": [
    {
     "data": {
      "text/plain": [
       "463041065.62414837"
      ]
     },
     "execution_count": 150,
     "metadata": {},
     "output_type": "execute_result"
    }
   ],
   "source": [
    "sum(original_test['total_pymnt'] - original_test['funded_amnt'])"
   ]
  },
  {
   "cell_type": "code",
   "execution_count": 151,
   "id": "917a5fca",
   "metadata": {},
   "outputs": [
    {
     "data": {
      "text/plain": [
       "11103771.90015626"
      ]
     },
     "execution_count": 151,
     "metadata": {},
     "output_type": "execute_result"
    }
   ],
   "source": [
    "474144837.5243046-463041065.62414837"
   ]
  },
  {
   "cell_type": "code",
   "execution_count": 152,
   "id": "fac9be48",
   "metadata": {},
   "outputs": [
    {
     "name": "stdout",
     "output_type": "stream",
     "text": [
      "True Positive Profit: 1116056499.5308466\n",
      "True Negative Profit: -345557575.24611425\n",
      "False Positive Profit: -641911662.0065418\n",
      "False Negative Profit: 334453803.3459547\n"
     ]
    }
   ],
   "source": [
    "# Confusion Matrix 분류에 따른 데이터프레임 분할\n",
    "tp_idx = y_test[(y_test == 1) & (y_test_pred_class == 1)].index\n",
    "tn_idx = y_test[(y_test == 0) & (y_test_pred_class == 0)].index\n",
    "fp_idx = y_test[(y_test == 0) & (y_test_pred_class == 1)].index\n",
    "fn_idx = y_test[(y_test == 1) & (y_test_pred_class == 0)].index\n",
    "\n",
    "# 각각의 분류에 해당하는 original_test 데이터 추출\n",
    "tp_values = original_test.loc[tp_idx, 'total_pymnt'] - original_test.loc[tp_idx, 'funded_amnt']\n",
    "tn_values = original_test.loc[tn_idx, 'total_pymnt'] - original_test.loc[tn_idx, 'funded_amnt']\n",
    "fp_values = original_test.loc[fp_idx, 'total_pymnt'] - original_test.loc[fp_idx, 'funded_amnt']\n",
    "fn_values = original_test.loc[fn_idx, 'total_pymnt'] - original_test.loc[fn_idx, 'funded_amnt']\n",
    "\n",
    "# 각 셀에서의 총 수익 계산\n",
    "tp_profit = np.sum(tp_values)  # True Positives 수익\n",
    "tn_profit = np.sum(tn_values)  # True Negatives 수익 (일반적으로 0이 될 가능성 높음)\n",
    "fp_profit = np.sum(fp_values)  # False Positives 수익 (일반적으로 손실 발생 가능)\n",
    "fn_profit = np.sum(fn_values)  # False Negatives 수익 (기회 손실)\n",
    "\n",
    "# 각 수익 출력\n",
    "print(f\"True Positive Profit: {tp_profit}\")\n",
    "print(f\"True Negative Profit: {tn_profit}\")\n",
    "print(f\"False Positive Profit: {fp_profit}\")\n",
    "print(f\"False Negative Profit: {fn_profit}\")\n"
   ]
  },
  {
   "cell_type": "code",
   "execution_count": 153,
   "id": "066e9baa",
   "metadata": {},
   "outputs": [
    {
     "data": {
      "text/plain": [
       "463041065.6241452"
      ]
     },
     "execution_count": 153,
     "metadata": {},
     "output_type": "execute_result"
    }
   ],
   "source": [
    "1116056499.5308466-345557575.24611425-641911662.0065418+334453803.3459547"
   ]
  },
  {
   "cell_type": "code",
   "execution_count": 155,
   "id": "fe259779",
   "metadata": {},
   "outputs": [
    {
     "data": {
      "image/png": "[encoded data removed]",
      "text/plain": [
       "<Figure size 800x600 with 1 Axes>"
      ]
     },
     "metadata": {},
     "output_type": "display_data"
    }
   ],
   "source": [
    "import seaborn as sns\n",
    "import matplotlib.pyplot as plt\n",
    "from sklearn.metrics import confusion_matrix\n",
    "\n",
    "# Confusion Matrix 계산\n",
    "cm = confusion_matrix(y_test, y_test_pred_class)\n",
    "\n",
    "# Confusion Matrix 셀의 수익 계산\n",
    "profit_values = {\n",
    "    'TP': tp_profit,\n",
    "    'TN': tn_profit,\n",
    "    'FP': fp_profit,\n",
    "    'FN': fn_profit\n",
    "}\n",
    "\n",
    "# Confusion Matrix 플롯\n",
    "plt.figure(figsize=(8, 6))\n",
    "ax = sns.heatmap(cm, annot=True, fmt='d', cmap='Blues', cbar=False, annot_kws={\"size\": 15})\n",
    "\n",
    "# 셀에 수익 값을 추가 (셀의 하단에 위치시키기)\n",
    "for i, (text, profit) in enumerate(zip(['TN', 'FP', 'FN', 'TP'], profit_values.values())):\n",
    "    # 행과 열 위치를 i로 계산 (00, 01, 10, 11 형태로 매칭)\n",
    "    row = i // 2\n",
    "    col = i % 2\n",
    "    ax.text(col + 0.5, row + 0.3, f'Profit: {profit:.2f}', \n",
    "            ha='center', va='top', color='red', fontsize=10, fontweight='bold')\n",
    "\n",
    "# Confusion Matrix 레이블 설정\n",
    "ax.set_xlabel('Predicted Label')\n",
    "ax.set_ylabel('True Label')\n",
    "ax.set_title('Confusion Matrix with Profit Values')\n",
    "plt.xticks([0.5, 1.5], ['Negative', 'Positive'], rotation=0)\n",
    "plt.yticks([0.5, 1.5], ['Negative', 'Positive'], rotation=0)\n",
    "\n",
    "plt.show()\n"
   ]
  },
  {
   "cell_type": "code",
   "execution_count": null,
   "id": "a5dd2dc7",
   "metadata": {},
   "outputs": [],
   "source": []
  }
 ],
 "metadata": {
  "kernelspec": {
   "display_name": "Python 3 (ipykernel)",
   "language": "python",
   "name": "python3"
  },
  "language_info": {
   "codemirror_mode": {
    "name": "ipython",
    "version": 3
   },
   "file_extension": ".py",
   "mimetype": "text/x-python",
   "name": "python",
   "nbconvert_exporter": "python",
   "pygments_lexer": "ipython3",
   "version": "3.11.5"
  }
 },
 "nbformat": 4,
 "nbformat_minor": 5
}
